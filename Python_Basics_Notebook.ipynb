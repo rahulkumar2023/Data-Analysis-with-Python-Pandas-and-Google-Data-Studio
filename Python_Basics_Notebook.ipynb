{
  "nbformat": 4,
  "nbformat_minor": 0,
  "metadata": {
    "colab": {
      "provenance": []
    },
    "kernelspec": {
      "name": "python3",
      "display_name": "Python 3"
    },
    "language_info": {
      "name": "python"
    }
  },
  "cells": [
    {
      "cell_type": "code",
      "execution_count": 3,
      "metadata": {
        "colab": {
          "base_uri": "https://localhost:8080/"
        },
        "id": "UZpDcSoXmtWV",
        "outputId": "f23a4910-01ae-4336-820f-fd2385447643"
      },
      "outputs": [
        {
          "output_type": "stream",
          "name": "stdout",
          "text": [
            "14\n"
          ]
        }
      ],
      "source": [
        "# Variables\n",
        "\n",
        "a = 14\n",
        "print(a)"
      ]
    },
    {
      "cell_type": "code",
      "source": [
        "b = \"Hello World\"\n",
        "print(b)"
      ],
      "metadata": {
        "colab": {
          "base_uri": "https://localhost:8080/"
        },
        "id": "Ukj7KrU5n2LA",
        "outputId": "ed763f33-aea2-44b7-adc6-e59cc79ee8e1"
      },
      "execution_count": 5,
      "outputs": [
        {
          "output_type": "stream",
          "name": "stdout",
          "text": [
            "Hello World\n"
          ]
        }
      ]
    },
    {
      "cell_type": "markdown",
      "source": [
        "# This is a note\n"
      ],
      "metadata": {
        "id": "41Xip4_1nMvT"
      }
    },
    {
      "cell_type": "code",
      "source": [
        "c = 10\n",
        "print(a + c)\n"
      ],
      "metadata": {
        "colab": {
          "base_uri": "https://localhost:8080/"
        },
        "id": "hzStFq60nY9U",
        "outputId": "3f5ccea3-cad2-456f-fca0-e427f8c41812"
      },
      "execution_count": 6,
      "outputs": [
        {
          "output_type": "stream",
          "name": "stdout",
          "text": [
            "24\n"
          ]
        }
      ]
    },
    {
      "cell_type": "code",
      "source": [
        "a = 20\n",
        "print(c + a)"
      ],
      "metadata": {
        "colab": {
          "base_uri": "https://localhost:8080/"
        },
        "id": "YeC35Hm1ngeX",
        "outputId": "cc039c72-db0e-4a20-dccf-2537031c0741"
      },
      "execution_count": 7,
      "outputs": [
        {
          "output_type": "stream",
          "name": "stdout",
          "text": [
            "30\n"
          ]
        }
      ]
    },
    {
      "cell_type": "code",
      "source": [
        "type(b)"
      ],
      "metadata": {
        "colab": {
          "base_uri": "https://localhost:8080/"
        },
        "id": "IC6nCKevoZ-4",
        "outputId": "d60305ad-e2b8-4f59-e61d-7b26721764dd"
      },
      "execution_count": 10,
      "outputs": [
        {
          "output_type": "execute_result",
          "data": {
            "text/plain": [
              "str"
            ]
          },
          "metadata": {},
          "execution_count": 10
        }
      ]
    },
    {
      "cell_type": "code",
      "source": [
        "a = True\n",
        "print(a)\n",
        "print(type(a))"
      ],
      "metadata": {
        "colab": {
          "base_uri": "https://localhost:8080/"
        },
        "id": "4_wq94aGof8u",
        "outputId": "f33ba633-e659-4e63-fa4c-00fa1f019cf6"
      },
      "execution_count": 11,
      "outputs": [
        {
          "output_type": "stream",
          "name": "stdout",
          "text": [
            "True\n",
            "<class 'bool'>\n"
          ]
        }
      ]
    },
    {
      "cell_type": "code",
      "source": [
        "a = 7\n",
        "type(a)"
      ],
      "metadata": {
        "colab": {
          "base_uri": "https://localhost:8080/"
        },
        "id": "mcQsEnymovux",
        "outputId": "ad697e02-e1b1-40f1-8fe7-5f93ee790c85"
      },
      "execution_count": 13,
      "outputs": [
        {
          "output_type": "execute_result",
          "data": {
            "text/plain": [
              "int"
            ]
          },
          "metadata": {},
          "execution_count": 13
        }
      ]
    },
    {
      "cell_type": "code",
      "source": [
        "x = 15\n",
        "y = 4\n",
        "z = x + y\n",
        "print(z)\n",
        "print(type(z))"
      ],
      "metadata": {
        "colab": {
          "base_uri": "https://localhost:8080/"
        },
        "id": "3Tylg3gbo2zy",
        "outputId": "e39b56ad-8059-42fe-ce7a-6b8ca1e94502"
      },
      "execution_count": 14,
      "outputs": [
        {
          "output_type": "stream",
          "name": "stdout",
          "text": [
            "19\n",
            "<class 'int'>\n"
          ]
        }
      ]
    },
    {
      "cell_type": "code",
      "source": [
        "x = \"101\"\n",
        "y = \"2\"\n",
        "z = x + y\n",
        "print(z)\n",
        "print(type(z))"
      ],
      "metadata": {
        "colab": {
          "base_uri": "https://localhost:8080/"
        },
        "id": "G9WX71VopGrM",
        "outputId": "dc573ada-be18-4d4d-b665-7daf57e9ec1a"
      },
      "execution_count": 17,
      "outputs": [
        {
          "output_type": "stream",
          "name": "stdout",
          "text": [
            "1012\n",
            "<class 'str'>\n"
          ]
        }
      ]
    },
    {
      "cell_type": "code",
      "source": [],
      "metadata": {
        "id": "YgSEaqXGpPqG"
      },
      "execution_count": null,
      "outputs": []
    },
    {
      "cell_type": "markdown",
      "source": [
        "# Array or List Variables\n",
        "\n"
      ],
      "metadata": {
        "id": "GnlSN4psp0YI"
      }
    },
    {
      "cell_type": "code",
      "source": [
        "# A Simple array or integers\n",
        "a = [1, 2, 3]\n",
        "print(a)"
      ],
      "metadata": {
        "colab": {
          "base_uri": "https://localhost:8080/"
        },
        "id": "xQ9d7OWtp6SV",
        "outputId": "c6fa856e-ba56-4cb2-dd97-0f68dbb90f4a"
      },
      "execution_count": 18,
      "outputs": [
        {
          "output_type": "stream",
          "name": "stdout",
          "text": [
            "[1, 2, 3]\n"
          ]
        }
      ]
    },
    {
      "cell_type": "code",
      "source": [
        "# Stroing variables of different types is possible\n",
        "b = [\"Text\", 4, 2.5]\n",
        "print(b)"
      ],
      "metadata": {
        "colab": {
          "base_uri": "https://localhost:8080/"
        },
        "id": "PRmSqEIQqGlk",
        "outputId": "0d360f2c-9d62-4048-bff9-b3d7671db839"
      },
      "execution_count": 19,
      "outputs": [
        {
          "output_type": "stream",
          "name": "stdout",
          "text": [
            "['Text', 4, 2.5]\n"
          ]
        }
      ]
    },
    {
      "cell_type": "code",
      "source": [
        "print(b[2])"
      ],
      "metadata": {
        "colab": {
          "base_uri": "https://localhost:8080/"
        },
        "id": "ZGCmGHTwqb_Q",
        "outputId": "93c7cf52-bd01-448c-9b21-3980fb4f89ed"
      },
      "execution_count": 22,
      "outputs": [
        {
          "output_type": "stream",
          "name": "stdout",
          "text": [
            "2.5\n"
          ]
        }
      ]
    },
    {
      "cell_type": "code",
      "source": [
        "a.append(4)\n"
      ],
      "metadata": {
        "id": "EsZVLM18q1cj"
      },
      "execution_count": 23,
      "outputs": []
    },
    {
      "cell_type": "code",
      "source": [
        "a"
      ],
      "metadata": {
        "colab": {
          "base_uri": "https://localhost:8080/"
        },
        "id": "2dqbJvw5sEd3",
        "outputId": "979a6269-775b-4cee-9713-60a4c30c3e87"
      },
      "execution_count": 24,
      "outputs": [
        {
          "output_type": "execute_result",
          "data": {
            "text/plain": [
              "[1, 2, 3, 4]"
            ]
          },
          "metadata": {},
          "execution_count": 24
        }
      ]
    },
    {
      "cell_type": "code",
      "source": [
        "len(a)"
      ],
      "metadata": {
        "colab": {
          "base_uri": "https://localhost:8080/"
        },
        "id": "sbzML0xfsF5I",
        "outputId": "2a3b9065-1baf-49f0-b0a6-59fbac7bbd44"
      },
      "execution_count": 25,
      "outputs": [
        {
          "output_type": "execute_result",
          "data": {
            "text/plain": [
              "4"
            ]
          },
          "metadata": {},
          "execution_count": 25
        }
      ]
    },
    {
      "cell_type": "code",
      "source": [
        "a[0] = 5\n",
        "a"
      ],
      "metadata": {
        "colab": {
          "base_uri": "https://localhost:8080/"
        },
        "id": "KVGaMw8esLQL",
        "outputId": "664ca005-5057-4447-9f49-0918ef4cd1fa"
      },
      "execution_count": 26,
      "outputs": [
        {
          "output_type": "execute_result",
          "data": {
            "text/plain": [
              "[5, 2, 3, 4]"
            ]
          },
          "metadata": {},
          "execution_count": 26
        }
      ]
    },
    {
      "cell_type": "code",
      "source": [
        "# Slicing lists is a technique used to get elements from, before, or between different indices\n",
        "print(\"All elements: \", a[:])"
      ],
      "metadata": {
        "colab": {
          "base_uri": "https://localhost:8080/"
        },
        "id": "U5vtnYaDsTCY",
        "outputId": "d403001b-3959-4d29-d980-0fc5368daa89"
      },
      "execution_count": 27,
      "outputs": [
        {
          "output_type": "stream",
          "name": "stdout",
          "text": [
            "All elements:  [5, 2, 3, 4]\n"
          ]
        }
      ]
    },
    {
      "cell_type": "code",
      "source": [
        "print(\"All elements from the 3rd position onward: \", a[2:])"
      ],
      "metadata": {
        "colab": {
          "base_uri": "https://localhost:8080/"
        },
        "id": "cj1c__rvssA9",
        "outputId": "4d2a61cf-7b0f-41e4-b5c0-a95557eb1337"
      },
      "execution_count": 28,
      "outputs": [
        {
          "output_type": "stream",
          "name": "stdout",
          "text": [
            "All elements from the 3rd position onward:  [3, 4]\n"
          ]
        }
      ]
    },
    {
      "cell_type": "code",
      "source": [
        "print(\"All elements between the 2nd and 4th position: \", a[1:3])"
      ],
      "metadata": {
        "colab": {
          "base_uri": "https://localhost:8080/"
        },
        "id": "bAPaKj-os-F4",
        "outputId": "66571cbd-12cd-4a76-82a7-42e590fdd826"
      },
      "execution_count": 29,
      "outputs": [
        {
          "output_type": "stream",
          "name": "stdout",
          "text": [
            "All elements between the 2nd and 4th position:  [2, 3]\n"
          ]
        }
      ]
    },
    {
      "cell_type": "code",
      "source": [
        "print(\"All elements before the last position\", a[:-1])"
      ],
      "metadata": {
        "colab": {
          "base_uri": "https://localhost:8080/"
        },
        "id": "bJ2mkZKh2DEZ",
        "outputId": "4a61473f-ca1b-496f-87ba-ab0f67abf382"
      },
      "execution_count": 30,
      "outputs": [
        {
          "output_type": "stream",
          "name": "stdout",
          "text": [
            "All elements before the last position [5, 2, 3]\n"
          ]
        }
      ]
    },
    {
      "cell_type": "code",
      "source": [],
      "metadata": {
        "id": "62_MLKMI7rGo"
      },
      "execution_count": null,
      "outputs": []
    },
    {
      "cell_type": "markdown",
      "source": [
        "# Dictionaries"
      ],
      "metadata": {
        "id": "qh3N4G1Y77XL"
      }
    },
    {
      "cell_type": "code",
      "source": [
        "# Creating a dictionary\n",
        "country_info = {\"name\" : \"Japan\", \"capital\": \"Tokyo\"}\n",
        "print(country_info)\n",
        "print(country_info[\"name\"])\n",
        "print(country_info[\"capital\"])"
      ],
      "metadata": {
        "colab": {
          "base_uri": "https://localhost:8080/"
        },
        "id": "U5J1Zm2D8REL",
        "outputId": "f38bfde0-faf6-4d0e-9328-36eeb8055a5a"
      },
      "execution_count": 33,
      "outputs": [
        {
          "output_type": "stream",
          "name": "stdout",
          "text": [
            "{'name': 'Japan', 'capital': 'Tokyo'}\n",
            "Japan\n",
            "Tokyo\n"
          ]
        }
      ]
    },
    {
      "cell_type": "code",
      "source": [
        "# We can store multiple values and easily add information to our dictionary\n",
        "\n",
        "country_info['population'] = '126.8M'\n",
        "print(country_info)"
      ],
      "metadata": {
        "colab": {
          "base_uri": "https://localhost:8080/"
        },
        "id": "H8Ig3aWe9ceo",
        "outputId": "51de4bd8-7ae9-491e-a5e9-8715daf7a202"
      },
      "execution_count": 34,
      "outputs": [
        {
          "output_type": "stream",
          "name": "stdout",
          "text": [
            "{'name': 'Japan', 'capital': 'Tokyo', 'population': '126.8M'}\n"
          ]
        }
      ]
    },
    {
      "cell_type": "code",
      "source": [
        "country_info['population'] = '100M'\n",
        "print(country_info)"
      ],
      "metadata": {
        "colab": {
          "base_uri": "https://localhost:8080/"
        },
        "id": "6ABXmLIJ-S4A",
        "outputId": "a82b5f6b-cd2e-4378-b1ea-96ca96d1d232"
      },
      "execution_count": 35,
      "outputs": [
        {
          "output_type": "stream",
          "name": "stdout",
          "text": [
            "{'name': 'Japan', 'capital': 'Tokyo', 'population': '100M'}\n"
          ]
        }
      ]
    },
    {
      "cell_type": "code",
      "source": [
        "country_info['regions'] = ['Hookaido', 'Tohoku', 'Kanto', 'Chubu', 'Kinki', 'Chugoku', 'Shikoku', 'Kyushu-Okinawa']\n",
        "print(country_info)"
      ],
      "metadata": {
        "colab": {
          "base_uri": "https://localhost:8080/"
        },
        "id": "VPwN4awD-ekz",
        "outputId": "6d603881-86d6-405a-e745-d0368771d296"
      },
      "execution_count": 36,
      "outputs": [
        {
          "output_type": "stream",
          "name": "stdout",
          "text": [
            "{'name': 'Japan', 'capital': 'Tokyo', 'population': '100M', 'regions': ['Hookaido', 'Tohoku', 'Kanto', 'Chubu', 'Kinki', 'Chugoku', 'Shikoku', 'Kyushu-Okinawa']}\n"
          ]
        }
      ]
    },
    {
      "cell_type": "code",
      "source": [
        "country_info['health'] = {\"life_expectancy\": 84.1, \"birth_rate\": 1.44}\n",
        "print(country_info)"
      ],
      "metadata": {
        "colab": {
          "base_uri": "https://localhost:8080/"
        },
        "id": "y4X2SrMs_FrQ",
        "outputId": "9dbc5dbc-4f62-4a90-844c-1b271fd3afe4"
      },
      "execution_count": 37,
      "outputs": [
        {
          "output_type": "stream",
          "name": "stdout",
          "text": [
            "{'name': 'Japan', 'capital': 'Tokyo', 'population': '100M', 'regions': ['Hookaido', 'Tohoku', 'Kanto', 'Chubu', 'Kinki', 'Chugoku', 'Shikoku', 'Kyushu-Okinawa'], 'health': {'life_expectancy': 84.1, 'birth_rate': 1.44}}\n"
          ]
        }
      ]
    },
    {
      "cell_type": "code",
      "source": [
        "country_info[\"health\"][\"life_expectancy\"]"
      ],
      "metadata": {
        "colab": {
          "base_uri": "https://localhost:8080/"
        },
        "id": "RTnzFnfo_eZa",
        "outputId": "8fc061bc-b9b6-4681-e322-f79356c62e9f"
      },
      "execution_count": 40,
      "outputs": [
        {
          "output_type": "execute_result",
          "data": {
            "text/plain": [
              "84.1"
            ]
          },
          "metadata": {},
          "execution_count": 40
        }
      ]
    },
    {
      "cell_type": "code",
      "source": [
        "country_info.keys()"
      ],
      "metadata": {
        "colab": {
          "base_uri": "https://localhost:8080/"
        },
        "id": "78usRjYn_vaW",
        "outputId": "21f592fb-a4ff-484a-fee4-0dab0450766b"
      },
      "execution_count": 41,
      "outputs": [
        {
          "output_type": "execute_result",
          "data": {
            "text/plain": [
              "dict_keys(['name', 'capital', 'population', 'regions', 'health'])"
            ]
          },
          "metadata": {},
          "execution_count": 41
        }
      ]
    },
    {
      "cell_type": "code",
      "source": [
        "country_info.values()\n"
      ],
      "metadata": {
        "colab": {
          "base_uri": "https://localhost:8080/"
        },
        "id": "GMjSevO-ACBs",
        "outputId": "44037dfd-a524-4da9-c2ad-407f3446094e"
      },
      "execution_count": 42,
      "outputs": [
        {
          "output_type": "execute_result",
          "data": {
            "text/plain": [
              "dict_values(['Japan', 'Tokyo', '100M', ['Hookaido', 'Tohoku', 'Kanto', 'Chubu', 'Kinki', 'Chugoku', 'Shikoku', 'Kyushu-Okinawa'], {'life_expectancy': 84.1, 'birth_rate': 1.44}])"
            ]
          },
          "metadata": {},
          "execution_count": 42
        }
      ]
    },
    {
      "cell_type": "code",
      "source": [],
      "metadata": {
        "id": "-f3kmW49AHDO"
      },
      "execution_count": null,
      "outputs": []
    },
    {
      "cell_type": "markdown",
      "source": [
        "# Conditional Statements - If & Else"
      ],
      "metadata": {
        "id": "Zb_8rf8xCeiU"
      }
    },
    {
      "cell_type": "code",
      "source": [
        "x = 10\n",
        "if x <= 10:\n",
        "  print(\"less than 10\")\n",
        "else:\n",
        "  print(\"over 10\")"
      ],
      "metadata": {
        "colab": {
          "base_uri": "https://localhost:8080/"
        },
        "id": "XoKlPnlmCiQO",
        "outputId": "5983cfd9-0eb5-4f28-bf9c-9614e7e3ad5c"
      },
      "execution_count": 47,
      "outputs": [
        {
          "output_type": "stream",
          "name": "stdout",
          "text": [
            "less than 10\n"
          ]
        }
      ]
    },
    {
      "cell_type": "code",
      "source": [
        "x = 16\n",
        "if x < 10:\n",
        "  print(\"less than 10\")\n",
        "elif x > 10 and x < 19:\n",
        "  print(\"greater than ten but less than 19\")\n",
        "else:\n",
        "  print(\"over 20\")"
      ],
      "metadata": {
        "colab": {
          "base_uri": "https://localhost:8080/"
        },
        "id": "4nNxkrYzDXCi",
        "outputId": "7cda6bc1-3bb0-43dd-972e-b205a1b0a612"
      },
      "execution_count": 50,
      "outputs": [
        {
          "output_type": "stream",
          "name": "stdout",
          "text": [
            "greater than ten but less than 19\n"
          ]
        }
      ]
    },
    {
      "cell_type": "code",
      "source": [
        "# Using booleans of conditional statements\n",
        "\n",
        "a = False\n",
        "if a == True:\n",
        "  print(\"statement was true\")"
      ],
      "metadata": {
        "id": "Gronz4_lLEg-"
      },
      "execution_count": 53,
      "outputs": []
    },
    {
      "cell_type": "markdown",
      "source": [],
      "metadata": {
        "id": "5H7E5TTjMmmx"
      }
    },
    {
      "cell_type": "code",
      "source": [],
      "metadata": {
        "id": "EdL81rvNMoCz"
      },
      "execution_count": null,
      "outputs": []
    },
    {
      "cell_type": "markdown",
      "source": [
        "# Loops"
      ],
      "metadata": {
        "id": "A1NK_ch4MrDo"
      }
    },
    {
      "cell_type": "code",
      "source": [
        "list(range(1, 5))"
      ],
      "metadata": {
        "colab": {
          "base_uri": "https://localhost:8080/"
        },
        "id": "5I24nUKZMuFU",
        "outputId": "ec9477d9-cdee-4dc8-c788-3aa9206d4163"
      },
      "execution_count": 57,
      "outputs": [
        {
          "output_type": "execute_result",
          "data": {
            "text/plain": [
              "[1, 2, 3, 4]"
            ]
          },
          "metadata": {},
          "execution_count": 57
        }
      ]
    },
    {
      "cell_type": "code",
      "source": [
        "for i in range(0, 5):\n",
        "  print(i)"
      ],
      "metadata": {
        "colab": {
          "base_uri": "https://localhost:8080/"
        },
        "id": "2ZJUFvbrM3D7",
        "outputId": "a50e080b-c7fc-4021-f705-676519ccaf3b"
      },
      "execution_count": 59,
      "outputs": [
        {
          "output_type": "stream",
          "name": "stdout",
          "text": [
            "0\n",
            "1\n",
            "2\n",
            "3\n",
            "4\n"
          ]
        }
      ]
    },
    {
      "cell_type": "code",
      "source": [
        "items = ['a', 'b', 'c', 'd']\n",
        "for item in items:\n",
        "  print(item)"
      ],
      "metadata": {
        "colab": {
          "base_uri": "https://localhost:8080/"
        },
        "id": "3vUJz9raOrZa",
        "outputId": "0ec69985-c02b-4c2e-c346-4046fdcfa127"
      },
      "execution_count": 60,
      "outputs": [
        {
          "output_type": "stream",
          "name": "stdout",
          "text": [
            "a\n",
            "b\n",
            "c\n",
            "d\n"
          ]
        }
      ]
    },
    {
      "cell_type": "code",
      "source": [
        "x = 0\n",
        "x\n"
      ],
      "metadata": {
        "colab": {
          "base_uri": "https://localhost:8080/"
        },
        "id": "wcwwPqjjQ-PE",
        "outputId": "45b84d4c-8f4b-4876-b4c1-08a6263e9e72"
      },
      "execution_count": 61,
      "outputs": [
        {
          "output_type": "execute_result",
          "data": {
            "text/plain": [
              "0"
            ]
          },
          "metadata": {},
          "execution_count": 61
        }
      ]
    },
    {
      "cell_type": "code",
      "source": [
        "x = x + 1\n",
        "x"
      ],
      "metadata": {
        "colab": {
          "base_uri": "https://localhost:8080/"
        },
        "id": "akt-avg0SWyf",
        "outputId": "38b9c270-3ce7-4291-8564-2c718ba37f36"
      },
      "execution_count": 64,
      "outputs": [
        {
          "output_type": "execute_result",
          "data": {
            "text/plain": [
              "2"
            ]
          },
          "metadata": {},
          "execution_count": 64
        }
      ]
    },
    {
      "cell_type": "code",
      "source": [
        "# Incrementing values in loops and storing them in a list\n",
        "\n",
        "x = 0\n",
        "collecting_values_of_x = []\n",
        "items = ['a', 'b', 'c', 'd']\n",
        "for item in items:\n",
        "  x += 1\n",
        "  print(x, item)\n",
        "  collecting_values_of_x.append(x)\n",
        "print(collecting_values_of_x)"
      ],
      "metadata": {
        "colab": {
          "base_uri": "https://localhost:8080/"
        },
        "id": "EUq3fh7vSanH",
        "outputId": "0ad63978-949d-4844-9092-242e3e96b4bc"
      },
      "execution_count": 65,
      "outputs": [
        {
          "output_type": "stream",
          "name": "stdout",
          "text": [
            "1 a\n",
            "2 b\n",
            "3 c\n",
            "4 d\n",
            "[1, 2, 3, 4]\n"
          ]
        }
      ]
    },
    {
      "cell_type": "code",
      "source": [
        "# While loops\n",
        "x = 0\n",
        "while x < 5:\n",
        "  x += 1\n",
        "  print(x)"
      ],
      "metadata": {
        "colab": {
          "base_uri": "https://localhost:8080/"
        },
        "id": "PsnwlRYuTKC4",
        "outputId": "644e7002-483a-4419-c57f-dce1d93bdd18"
      },
      "execution_count": 67,
      "outputs": [
        {
          "output_type": "stream",
          "name": "stdout",
          "text": [
            "1\n",
            "2\n",
            "3\n",
            "4\n",
            "5\n"
          ]
        }
      ]
    },
    {
      "cell_type": "code",
      "source": [
        "# While loops\n",
        "x = 0\n",
        "while True:\n",
        "  if x == 5:\n",
        "    break\n",
        "  x += 1\n",
        "  print(x)"
      ],
      "metadata": {
        "colab": {
          "base_uri": "https://localhost:8080/"
        },
        "id": "8VE9OHqnTdrl",
        "outputId": "2acaa318-8637-46cb-e21b-925ab5e28762"
      },
      "execution_count": 68,
      "outputs": [
        {
          "output_type": "stream",
          "name": "stdout",
          "text": [
            "1\n",
            "2\n",
            "3\n",
            "4\n",
            "5\n"
          ]
        }
      ]
    },
    {
      "cell_type": "code",
      "source": [],
      "metadata": {
        "id": "CeuBN_ndUHQo"
      },
      "execution_count": null,
      "outputs": []
    },
    {
      "cell_type": "markdown",
      "source": [
        "# Functions"
      ],
      "metadata": {
        "id": "oYAOGD69URiN"
      }
    },
    {
      "cell_type": "code",
      "source": [
        "print(\"this is print\")"
      ],
      "metadata": {
        "colab": {
          "base_uri": "https://localhost:8080/"
        },
        "id": "OM32U_HWUTL3",
        "outputId": "08b033c2-adc1-4e9a-ea03-848b45a98733"
      },
      "execution_count": 69,
      "outputs": [
        {
          "output_type": "stream",
          "name": "stdout",
          "text": [
            "this is print\n"
          ]
        }
      ]
    },
    {
      "cell_type": "code",
      "source": [
        "def areaCircle(radius):\n",
        "  print(radius)\n",
        "  return 3.14 * (radius**2)"
      ],
      "metadata": {
        "id": "_w66y9NPUa2L"
      },
      "execution_count": 76,
      "outputs": []
    },
    {
      "cell_type": "code",
      "source": [
        "areaCircle(5)"
      ],
      "metadata": {
        "colab": {
          "base_uri": "https://localhost:8080/"
        },
        "id": "gZ8WIoe6aIpj",
        "outputId": "c0f87f57-c2f3-4ac1-9040-b232df42801e"
      },
      "execution_count": 77,
      "outputs": [
        {
          "output_type": "stream",
          "name": "stdout",
          "text": [
            "5\n"
          ]
        },
        {
          "output_type": "execute_result",
          "data": {
            "text/plain": [
              "78.5"
            ]
          },
          "metadata": {},
          "execution_count": 77
        }
      ]
    },
    {
      "cell_type": "code",
      "source": [
        "def volumeCylinder(radius, height):\n",
        "  volume = 3.14 * radius**2 * height;\n",
        "  return volume"
      ],
      "metadata": {
        "id": "oulJVUkJaPEH"
      },
      "execution_count": 5,
      "outputs": []
    },
    {
      "cell_type": "code",
      "source": [
        "volumeCylinder(radius = 5, height = 6)"
      ],
      "metadata": {
        "colab": {
          "base_uri": "https://localhost:8080/"
        },
        "id": "dOUdHBWqwBOw",
        "outputId": "ba594435-c7de-4665-a239-16886bc377a1"
      },
      "execution_count": 3,
      "outputs": [
        {
          "output_type": "execute_result",
          "data": {
            "text/plain": [
              "471.0"
            ]
          },
          "metadata": {},
          "execution_count": 3
        }
      ]
    },
    {
      "cell_type": "code",
      "source": [
        "volumeCylinder(5, 6)"
      ],
      "metadata": {
        "colab": {
          "base_uri": "https://localhost:8080/"
        },
        "id": "P6LAtqvVwjBh",
        "outputId": "904da4c6-5752-4850-d039-164ebd59c13e"
      },
      "execution_count": 4,
      "outputs": [
        {
          "output_type": "execute_result",
          "data": {
            "text/plain": [
              "471.0"
            ]
          },
          "metadata": {},
          "execution_count": 4
        }
      ]
    },
    {
      "cell_type": "code",
      "source": [
        "def volumeCylinder(radius, height = 3):\n",
        "  volume = 3.14 * radius**2 * height;\n",
        "  return volume"
      ],
      "metadata": {
        "id": "1v6YlUfMwxx7"
      },
      "execution_count": 7,
      "outputs": []
    },
    {
      "cell_type": "code",
      "source": [
        "volumeCylinder(5, 10)"
      ],
      "metadata": {
        "colab": {
          "base_uri": "https://localhost:8080/"
        },
        "id": "dDs6vK6Hxf1Z",
        "outputId": "31c85dc2-a149-4928-ddc2-512fbfc98ede"
      },
      "execution_count": 9,
      "outputs": [
        {
          "output_type": "execute_result",
          "data": {
            "text/plain": [
              "785.0"
            ]
          },
          "metadata": {},
          "execution_count": 9
        }
      ]
    },
    {
      "cell_type": "code",
      "source": [],
      "metadata": {
        "id": "2AuPhnLwx4gZ"
      },
      "execution_count": null,
      "outputs": []
    },
    {
      "cell_type": "markdown",
      "source": [
        "# Classes"
      ],
      "metadata": {
        "id": "nS7uLmj2yDUY"
      }
    },
    {
      "cell_type": "code",
      "source": [
        "class Book(object):\n",
        "  \"\"\" Class object for books \"\"\"\n",
        "\n",
        "  def __init__(self, title, author):\n",
        "    \"\"\" Initializes a new book \"\"\"\n",
        "    self.title = title\n",
        "    self.author = author\n",
        "\n",
        "  def __str__(self):\n",
        "    return self.title\n",
        "\n",
        "  def change_book_name(self, new_name):\n",
        "    self.title = new_name\n",
        ""
      ],
      "metadata": {
        "id": "iWdy3Jc6yEWc"
      },
      "execution_count": 31,
      "outputs": []
    },
    {
      "cell_type": "code",
      "source": [
        "my_book = Book(title = \"This is a good book\", author = \"Rajeev Ratan\")"
      ],
      "metadata": {
        "id": "XvZgvEYizA3D"
      },
      "execution_count": 32,
      "outputs": []
    },
    {
      "cell_type": "code",
      "source": [
        "print(my_book)"
      ],
      "metadata": {
        "colab": {
          "base_uri": "https://localhost:8080/"
        },
        "id": "PsGG0aa4zZqq",
        "outputId": "2719663b-84e1-44fd-8639-f99032e2b3c5"
      },
      "execution_count": 33,
      "outputs": [
        {
          "output_type": "stream",
          "name": "stdout",
          "text": [
            "This is a good book\n"
          ]
        }
      ]
    },
    {
      "cell_type": "code",
      "source": [
        "my_book.change_book_name(new_name = \"Data Science Book 1\")\n",
        "print(my_book)"
      ],
      "metadata": {
        "colab": {
          "base_uri": "https://localhost:8080/"
        },
        "id": "BCpmNWitzwZN",
        "outputId": "4d86d7f9-1c37-4aba-83ac-9859bb41ed3e"
      },
      "execution_count": 34,
      "outputs": [
        {
          "output_type": "stream",
          "name": "stdout",
          "text": [
            "Data Science Book 1\n"
          ]
        }
      ]
    },
    {
      "cell_type": "code",
      "source": [
        "my_book.author"
      ],
      "metadata": {
        "colab": {
          "base_uri": "https://localhost:8080/",
          "height": 35
        },
        "id": "qFvAcUb61-A5",
        "outputId": "7c133cd7-2433-4f79-d5af-7f4119e0dbba"
      },
      "execution_count": 35,
      "outputs": [
        {
          "output_type": "execute_result",
          "data": {
            "text/plain": [
              "'Rajeev Ratan'"
            ],
            "application/vnd.google.colaboratory.intrinsic+json": {
              "type": "string"
            }
          },
          "metadata": {},
          "execution_count": 35
        }
      ]
    },
    {
      "cell_type": "code",
      "source": [],
      "metadata": {
        "id": "odoc7e3u2DdQ"
      },
      "execution_count": null,
      "outputs": []
    }
  ]
}
