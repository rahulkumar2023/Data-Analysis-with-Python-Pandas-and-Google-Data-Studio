{
  "nbformat": 4,
  "nbformat_minor": 0,
  "metadata": {
    "colab": {
      "provenance": []
    },
    "kernelspec": {
      "name": "python3",
      "display_name": "Python 3"
    },
    "language_info": {
      "name": "python"
    }
  },
  "cells": [
    {
      "cell_type": "code",
      "execution_count": 6,
      "metadata": {
        "id": "QIH9axpHcqB5"
      },
      "outputs": [],
      "source": [
        "numbers = [5, 2, 7, 3, 4, 6, 8, 1]\n",
        "def square_number(x):\n",
        "  return x**2"
      ]
    },
    {
      "cell_type": "code",
      "source": [
        "squares = []\n",
        "for num in numbers:\n",
        "  squares.append(square_number(num))\n",
        "print('Non-Pythonic Approach: ', squares)"
      ],
      "metadata": {
        "colab": {
          "base_uri": "https://localhost:8080/"
        },
        "id": "yVa9Ci_vc8Xe",
        "outputId": "d923e2df-95bb-48f5-fc42-c0e26bf11cba"
      },
      "execution_count": 7,
      "outputs": [
        {
          "output_type": "stream",
          "name": "stdout",
          "text": [
            "Non-Pythonic Approach:  [25, 4, 49, 9, 16, 36, 64, 1]\n"
          ]
        }
      ]
    },
    {
      "cell_type": "code",
      "source": [
        "x = map(square_number, numbers)\n",
        "print('Pythonic Approach: ', list(x))"
      ],
      "metadata": {
        "colab": {
          "base_uri": "https://localhost:8080/"
        },
        "id": "UfXOfBpodehB",
        "outputId": "1e89c337-bf66-412d-dcc2-b7e6135065e4"
      },
      "execution_count": 9,
      "outputs": [
        {
          "output_type": "stream",
          "name": "stdout",
          "text": [
            "Pythonic Approach:  [25, 4, 49, 9, 16, 36, 64, 1]\n"
          ]
        }
      ]
    },
    {
      "cell_type": "code",
      "source": [
        "a = [5, 2, 7, 3, 4]\n",
        "b = [3, 8, 6, 8, 1]\n",
        "for x, y in zip(a, b):\n",
        "  print(x, y)"
      ],
      "metadata": {
        "colab": {
          "base_uri": "https://localhost:8080/"
        },
        "id": "Iumzl_4GlMq9",
        "outputId": "2657ac69-2ecb-400a-bb9b-be00536e0e37"
      },
      "execution_count": 10,
      "outputs": [
        {
          "output_type": "stream",
          "name": "stdout",
          "text": [
            "5 3\n",
            "2 8\n",
            "7 6\n",
            "3 8\n",
            "4 1\n"
          ]
        }
      ]
    },
    {
      "cell_type": "code",
      "source": [
        "numbers = [5, 2, 7, 3, 4, 6, 8, 1, 9, 0, 10]\n",
        "def isEven(x):\n",
        "  return x % 2 == 0"
      ],
      "metadata": {
        "id": "ho6QajPnl-pw"
      },
      "execution_count": 11,
      "outputs": []
    },
    {
      "cell_type": "code",
      "source": [
        "even_numbers = []\n",
        "for num in numbers:\n",
        "  if isEven(num):\n",
        "    even_numbers.append(num)\n",
        "print('Non-Pythonic Approach: ', even_numbers)"
      ],
      "metadata": {
        "colab": {
          "base_uri": "https://localhost:8080/"
        },
        "id": "XKjcR_LCmlP1",
        "outputId": "5600b986-5b9e-40ac-c013-292e07b3aa5a"
      },
      "execution_count": 14,
      "outputs": [
        {
          "output_type": "stream",
          "name": "stdout",
          "text": [
            "Non-Pythonic Approach:  [2, 4, 6, 8, 0, 10]\n"
          ]
        }
      ]
    },
    {
      "cell_type": "code",
      "source": [
        "even_numbers = filter(isEven, numbers)\n",
        "print('Pythonic Approach :', list(even_numbers))"
      ],
      "metadata": {
        "colab": {
          "base_uri": "https://localhost:8080/"
        },
        "id": "eD5DTvF4m_G8",
        "outputId": "8e53549d-b14d-4233-dc04-9e2f3370102e"
      },
      "execution_count": 16,
      "outputs": [
        {
          "output_type": "stream",
          "name": "stdout",
          "text": [
            "Pythonic Approach : [2, 4, 6, 8, 0, 10]\n"
          ]
        }
      ]
    },
    {
      "cell_type": "code",
      "source": [],
      "metadata": {
        "id": "j5FSkcgvnl2q"
      },
      "execution_count": null,
      "outputs": []
    }
  ]
}